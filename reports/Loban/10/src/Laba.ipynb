{
 "cells": [
  {
   "cell_type": "code",
   "execution_count": 7,
   "id": "9115afd0",
   "metadata": {},
   "outputs": [
    {
     "name": "stdout",
     "output_type": "stream",
     "text": [
      "5.76 µs ± 68 ns per loop (mean ± std. dev. of 7 runs, 100000 loops each)\n",
      "506 ns ± 10.6 ns per loop (mean ± std. dev. of 7 runs, 1000000 loops each)\n",
      "296 ns ± 8.72 ns per loop (mean ± std. dev. of 7 runs, 1000000 loops each)\n",
      "3\n"
     ]
    }
   ],
   "source": [
    "from functools import reduce\n",
    "import numpy as np\n",
    "\n",
    "#numpy\n",
    "x = np.array([[1, 0, 1], [2, 0, 2], [3, 0, 3], [4, 4, 4]])\n",
    "%timeit np.prod(np.diag(x)[np.diag(x)!=0])\n",
    "\n",
    "#без numpy\n",
    "x = [[1, 0, 1], [2, 0, 2], [3, 0, 3], [4, 4, 4]]\n",
    "%timeit reduce(lambda x, y: x*y,[x[i][i] for i in range(len(x[0])) if x[i][i]!=0])\n",
    "\n",
    "x = [[1, 0, 1], [2, 0, 2], [3, 0, 3], [4, 4, 4]]\n",
    "def red(x):\n",
    "    ret = 1\n",
    "    for i in range(len(x[0])):\n",
    "        if x[i][i]!=0:\n",
    "            ret *= x[i][i]\n",
    "    return ret\n",
    "%timeit red(x)\n",
    "print(red(x))"
   ]
  },
  {
   "cell_type": "code",
   "execution_count": 8,
   "id": "71cf2eaa",
   "metadata": {},
   "outputs": [
    {
     "name": "stdout",
     "output_type": "stream",
     "text": [
      "1.51 µs ± 8.32 ns per loop (mean ± std. dev. of 7 runs, 1000000 loops each)\n",
      "342 ns ± 10.2 ns per loop (mean ± std. dev. of 7 runs, 1000000 loops each)\n",
      "399 ns ± 8.03 ns per loop (mean ± std. dev. of 7 runs, 1000000 loops each)\n",
      "[0, 9, 0]\n"
     ]
    }
   ],
   "source": [
    "import numpy as np\n",
    "\n",
    "#с numpy\n",
    "x = np.array([[9, 4, 2], [6, 0, 0], [9, 9, 3]])\n",
    "i = np.array([1, 2, 1])\n",
    "j = np.array([1, 0, 1])\n",
    "%timeit x[i, j]\n",
    "\n",
    "#без numpy\n",
    "x = [[9, 4, 2], [6, 0, 0], [9, 9, 3]]\n",
    "i = [1, 2, 1]\n",
    "j = [1, 0, 1]\n",
    "%timeit [x[i[k]][j[k]] for k in range(len(i))]\n",
    "\n",
    "ret = []\n",
    "%timeit for k in range(len(i)): ret.append(x[i[k]][j[k]])\n",
    "print([x[i[k]][j[k]] for k in range(len(i))])"
   ]
  },
  {
   "cell_type": "code",
   "execution_count": 9,
   "id": "1d67d2d3",
   "metadata": {},
   "outputs": [
    {
     "name": "stdout",
     "output_type": "stream",
     "text": [
      "4 µs ± 144 ns per loop (mean ± std. dev. of 7 runs, 100000 loops each)\n",
      "85.6 ns ± 1.04 ns per loop (mean ± std. dev. of 7 runs, 10000000 loops each)\n",
      "1.18 µs ± 20.8 ns per loop (mean ± std. dev. of 7 runs, 1000000 loops each)\n"
     ]
    }
   ],
   "source": [
    "import numpy as np\n",
    "\n",
    "#с numpy\n",
    "x = np.array([1, 2, 2, 4])\n",
    "y = np.array([4, 2, 1, 2])\n",
    "%timeit np.array_equal(np.sort(x),np.sort(y))\n",
    "\n",
    "#без numpy\n",
    "x = [1, 2, 2, 4]\n",
    "y = [4, 2, 1, 2]\n",
    "%timeit x.sort()==y.sort()\n",
    "\n",
    "def true(x, y):\n",
    "    ret = []\n",
    "    for i in range(len(x)):\n",
    "        for j in range(len(y)):\n",
    "            if x[i] == y[j]:\n",
    "                ret.append(True)\n",
    "                break\n",
    "            elif j+1 == len(y):\n",
    "                ret.append(False)\n",
    "    return ret  \n",
    "%timeit all(true(x,y))"
   ]
  },
  {
   "cell_type": "code",
   "execution_count": 10,
   "id": "a9ae7ef1",
   "metadata": {},
   "outputs": [
    {
     "name": "stdout",
     "output_type": "stream",
     "text": [
      "3.26 µs ± 36.8 ns per loop (mean ± std. dev. of 7 runs, 100000 loops each)\n",
      "605 ns ± 13.7 ns per loop (mean ± std. dev. of 7 runs, 1000000 loops each)\n",
      "542 ns ± 17.2 ns per loop (mean ± std. dev. of 7 runs, 1000000 loops each)\n"
     ]
    }
   ],
   "source": [
    "import numpy as np\n",
    "\n",
    "#с numpy\n",
    "x = np.array([6, 2, 0, 3, 0, 0, 5, 7, 0])\n",
    "%timeit np.max(x[1:][(x==0)[:-1]])\n",
    "\n",
    "#без numpy\n",
    "x = [6, 2, 0, 3, 0, 0, 5, 7, 0]\n",
    "%timeit max(x[i] for i in range(1, len(x)) if not x[i-1])\n",
    "\n",
    "def fun(x):\n",
    "    ret = []\n",
    "    for i in range(1, len(x)):\n",
    "        if not x[i-1]:\n",
    "            ret.append(x[i])\n",
    "    return ret\n",
    "%timeit max(fun(x))"
   ]
  },
  {
   "cell_type": "code",
   "execution_count": 31,
   "id": "499dc388",
   "metadata": {
    "scrolled": false
   },
   "outputs": [
    {
     "name": "stdout",
     "output_type": "stream",
     "text": [
      "185 ms ± 3.43 ms per loop (mean ± std. dev. of 7 runs, 1 loop each)\n",
      "5.37 ms ± 102 µs per loop (mean ± std. dev. of 7 runs, 100 loops each)\n"
     ]
    },
    {
     "name": "stderr",
     "output_type": "stream",
     "text": [
      "Lossy conversion from float64 to uint8. Range [39.210900000000066, 279.21090000000027]. Convert image to uint8 prior to saving to suppress this warning.\n"
     ]
    },
    {
     "name": "stdout",
     "output_type": "stream",
     "text": [
      "46.2 ms ± 962 µs per loop (mean ± std. dev. of 7 runs, 10 loops each)\n"
     ]
    }
   ],
   "source": [
    "import numpy as np\n",
    "import imageio\n",
    "from PIL import Image\n",
    "\n",
    "img = Image.open('Картинка.png')\n",
    "\n",
    "#с numpy\n",
    "color = np.array([0.2989, 0.587, 0.114])\n",
    "def fun(img, color):\n",
    "    arr = np.asarray(img, dtype='uint8')\n",
    "    new_img = Image.fromarray(np.dot(arr[...,:3], color))\n",
    "    return new_img\n",
    "\n",
    "%timeit fun(img, color)\n",
    "\n",
    "#без numpy\n",
    "%timeit img.convert(\"L\")\n",
    "color = [0.2989, 0.587, 0.114, 0]\n",
    "img = imageio.imread('Картинка.png')\n",
    "img = img.astype('float64')\n",
    "%timeit for i in range(len(img)): img[i] += color\n",
    "imageio.imwrite('Картинка-серая.png', img[:,:,0])"
   ]
  },
  {
   "cell_type": "code",
   "execution_count": 25,
   "id": "c19db0af",
   "metadata": {},
   "outputs": [
    {
     "name": "stdout",
     "output_type": "stream",
     "text": [
      "28 µs ± 264 ns per loop (mean ± std. dev. of 7 runs, 10000 loops each)\n",
      "2.08 µs ± 42.3 ns per loop (mean ± std. dev. of 7 runs, 100000 loops each)\n",
      "2.4 µs ± 40.6 ns per loop (mean ± std. dev. of 7 runs, 100000 loops each)\n"
     ]
    }
   ],
   "source": [
    "import numpy as np\n",
    "from itertools import groupby\n",
    "\n",
    "#с numpy\n",
    "x = np.array([2, 2, 2, 3, 3, 3, 5])\n",
    "def fun(seq):\n",
    "    ret = np.append(np.where(seq[1:] != seq[:-1]), len(seq) - 1)\n",
    "    count = np.diff(np.append(-1, ret))\n",
    "    return (ret,count)\n",
    "%timeit fun(x)\n",
    "\n",
    "x = [2, 2, 2, 3, 3, 3, 5]\n",
    "\n",
    "#без numpy\n",
    "def fun1(seq):\n",
    "    ret = ([seq[0]],[])\n",
    "    count = 1\n",
    "    j = 0\n",
    "    for i in range(1,len(seq)):\n",
    "        if seq[i] == ret[0][j]:\n",
    "            count += 1\n",
    "        else :\n",
    "            ret[0].append(seq[i])\n",
    "            ret[1].append(count)\n",
    "            j += 1\n",
    "            count = 1\n",
    "    ret[1].append(count)\n",
    "    return ret\n",
    "%timeit fun1(x)\n",
    "\n",
    "def fun2(seq):\n",
    "    ret = ([],[])\n",
    "    for x, group in groupby(seq):\n",
    "        ret[0].append(x)\n",
    "        ret[1].append(len(tuple(group)))\n",
    "    return ret\n",
    "%timeit fun2(x)"
   ]
  },
  {
   "cell_type": "code",
   "execution_count": 29,
   "id": "47f595fd",
   "metadata": {},
   "outputs": [
    {
     "name": "stdout",
     "output_type": "stream",
     "text": [
      "7.32 µs ± 41.5 ns per loop (mean ± std. dev. of 7 runs, 100000 loops each)\n",
      "18.6 µs ± 68.5 ns per loop (mean ± std. dev. of 7 runs, 100000 loops each)\n",
      "457 ns ± 4.31 ns per loop (mean ± std. dev. of 7 runs, 1000000 loops each)\n",
      "15.329709716755893\n"
     ]
    }
   ],
   "source": [
    "import numpy as np\n",
    "from scipy.spatial import distance\n",
    "import math\n",
    "\n",
    "#с numpy\n",
    "x = np.array([2, 7, 6, 6, 9, 6, 3, 4, 9])\n",
    "y = np.array([1, 0, 0, 7, 2, 2, 4, 3, 0])\n",
    "%timeit np.sqrt(np.dot(x-y, x-y))\n",
    "\n",
    "x = [2, 7, 6, 6, 9, 6, 3, 4, 9]\n",
    "y = [1, 0, 0, 7, 2, 2, 4, 3, 0]\n",
    "#с scipy\n",
    "%timeit distance.euclidean(x, y)\n",
    "#с чистым python\n",
    "%timeit math.dist(x, y)\n",
    "print(math.dist(x, y))"
   ]
  },
  {
   "cell_type": "code",
   "execution_count": 30,
   "id": "cb191b0f",
   "metadata": {},
   "outputs": [
    {
     "name": "stderr",
     "output_type": "stream",
     "text": [
      "C:\\Users\\Asus\\AppData\\Roaming\\Python\\Python39\\site-packages\\scipy\\sparse\\linalg\\dsolve\\linsolve.py:144: SparseEfficiencyWarning: spsolve requires A be CSC or CSR matrix format\n",
      "  warn('spsolve requires A be CSC or CSR matrix format',\n"
     ]
    },
    {
     "name": "stdout",
     "output_type": "stream",
     "text": [
      "359 µs ± 2.82 µs per loop (mean ± std. dev. of 7 runs, 1000 loops each)\n",
      "-5.054836210528194\n"
     ]
    }
   ],
   "source": [
    "import numpy as np\n",
    "import scipy.sparse as sp\n",
    "import scipy.sparse.linalg as spln\n",
    "# covariance matrix\n",
    "sigma = np.array([[2.3, 0, 0, 0],\n",
    "           [0, 1.5, 0, 0],\n",
    "           [0, 0, 1.7, 0],\n",
    "           [0, 0,   0, 2]\n",
    "          ])\n",
    "# mean vector\n",
    "mu = np.array([2,3,8,10])\n",
    "\n",
    "# input\n",
    "x = np.array([2.1,3.5,8, 9.5])\n",
    "\n",
    "def lognormpdf(x,mu,S):\n",
    "    nx = len(S)\n",
    "    norm_coeff = nx*np.log(2*np.pi)+np.linalg.slogdet(S)[1]\n",
    "    err = x-mu\n",
    "    numerator = spln.spsolve(S, err).T.dot(err)\n",
    "    return -0.5*(norm_coeff+numerator)\n",
    "%timeit lognormpdf(x, mu, sigma)\n",
    "print (lognormpdf(x, mu, sigma))"
   ]
  },
  {
   "cell_type": "code",
   "execution_count": null,
   "id": "be5ab853",
   "metadata": {},
   "outputs": [],
   "source": []
  }
 ],
 "metadata": {
  "kernelspec": {
   "display_name": "Python 3 (ipykernel)",
   "language": "python",
   "name": "python3"
  },
  "language_info": {
   "codemirror_mode": {
    "name": "ipython",
    "version": 3
   },
   "file_extension": ".py",
   "mimetype": "text/x-python",
   "name": "python",
   "nbconvert_exporter": "python",
   "pygments_lexer": "ipython3",
   "version": "3.9.7"
  }
 },
 "nbformat": 4,
 "nbformat_minor": 5
}
